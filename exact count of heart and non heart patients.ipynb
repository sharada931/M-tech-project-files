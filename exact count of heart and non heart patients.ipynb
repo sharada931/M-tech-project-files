{
 "cells": [
  {
   "cell_type": "code",
   "execution_count": 1,
   "id": "27784120",
   "metadata": {},
   "outputs": [],
   "source": [
    "import tkinter as tk\n",
    "import pandas as pd\n",
    "import numpy as np\n",
    "from sklearn.model_selection import train_test_split\n",
    "from sklearn.metrics import confusion_matrix, accuracy_score\n",
    "from sklearn.preprocessing import StandardScaler\n",
    "from sklearn.tree import DecisionTreeClassifier\n",
    "from sklearn.linear_model import LogisticRegression\n",
    "from xgboost import XGBClassifier\n",
    "import matplotlib.pyplot as plt\n",
    "import seaborn as sns\n",
    "from matplotlib.backends.backend_tkagg import FigureCanvasTkAgg\n",
    "\n",
    "import warnings\n",
    "\n",
    "warnings.filterwarnings(\"ignore\", category=UserWarning, module=\"xgboost\")"
   ]
  },
  {
   "cell_type": "code",
   "execution_count": 2,
   "id": "9c274339",
   "metadata": {},
   "outputs": [
    {
     "name": "stdout",
     "output_type": "stream",
     "text": [
      "Requirement already satisfied: matplotlib in c:\\users\\shara\\anaconda3\\lib\\site-packages (3.4.3)\n",
      "Requirement already satisfied: pillow>=6.2.0 in c:\\users\\shara\\anaconda3\\lib\\site-packages (from matplotlib) (8.4.0)\n",
      "Requirement already satisfied: kiwisolver>=1.0.1 in c:\\users\\shara\\anaconda3\\lib\\site-packages (from matplotlib) (1.3.1)\n",
      "Requirement already satisfied: numpy>=1.16 in c:\\users\\shara\\anaconda3\\lib\\site-packages (from matplotlib) (1.20.3)\n",
      "Requirement already satisfied: cycler>=0.10 in c:\\users\\shara\\anaconda3\\lib\\site-packages (from matplotlib) (0.10.0)\n",
      "Requirement already satisfied: pyparsing>=2.2.1 in c:\\users\\shara\\anaconda3\\lib\\site-packages (from matplotlib) (3.0.4)\n",
      "Requirement already satisfied: python-dateutil>=2.7 in c:\\users\\shara\\anaconda3\\lib\\site-packages (from matplotlib) (2.8.2)\n",
      "Requirement already satisfied: six in c:\\users\\shara\\anaconda3\\lib\\site-packages (from cycler>=0.10->matplotlib) (1.16.0)\n",
      "Note: you may need to restart the kernel to use updated packages.\n"
     ]
    }
   ],
   "source": [
    "pip install matplotlib"
   ]
  },
  {
   "cell_type": "code",
   "execution_count": 3,
   "id": "e14698a8",
   "metadata": {},
   "outputs": [],
   "source": [
    "# Load the heart disease dataset\n",
    "heart_data = pd.read_csv('C:/Users/shara/Downloads/heart_statlog_cleveland_hungary_final - Copy.csv')"
   ]
  },
  {
   "cell_type": "code",
   "execution_count": 4,
   "id": "74b3d2c2",
   "metadata": {},
   "outputs": [],
   "source": [
    "# Calculate the total size of the dataset\n",
    "dataset_size = len(heart_data)"
   ]
  },
  {
   "cell_type": "code",
   "execution_count": 5,
   "id": "9ba7866a",
   "metadata": {},
   "outputs": [
    {
     "name": "stdout",
     "output_type": "stream",
     "text": [
      "Heart Patients Count: 629\n",
      "Non-Heart Patients Count: 561\n"
     ]
    }
   ],
   "source": [
    "# Calculate the counts of heart patients and non-heart patients\n",
    "heart_patient_count = len(heart_data[heart_data['target'] == 1])\n",
    "non_heart_patient_count = len(heart_data[heart_data['target'] == 0])\n",
    "\n",
    "# Display the counts\n",
    "print(\"Heart Patients Count:\", heart_patient_count)\n",
    "print(\"Non-Heart Patients Count:\", non_heart_patient_count)"
   ]
  },
  {
   "cell_type": "code",
   "execution_count": 6,
   "id": "fa63ae5a",
   "metadata": {},
   "outputs": [
    {
     "name": "stdout",
     "output_type": "stream",
     "text": [
      "Dataset Size: 1190\n"
     ]
    }
   ],
   "source": [
    "# Display the size of the dataset\n",
    "dataset_size = len(heart_data)\n",
    "print(\"Dataset Size:\", dataset_size)"
   ]
  },
  {
   "cell_type": "code",
   "execution_count": 7,
   "id": "ad0f5623",
   "metadata": {},
   "outputs": [],
   "source": [
    "# Extract the features and target variable\n",
    "X = heart_data.drop('target', axis=1)\n",
    "y = heart_data['target']"
   ]
  },
  {
   "cell_type": "code",
   "execution_count": 8,
   "id": "5b78ed4a",
   "metadata": {},
   "outputs": [],
   "source": [
    "# Count the number of heart disease patients and non-heart disease patients\n",
    "heart_disease_count = y.value_counts()[1]\n",
    "non_heart_disease_count = y.value_counts()[0]"
   ]
  },
  {
   "cell_type": "code",
   "execution_count": 9,
   "id": "91bc78f4",
   "metadata": {},
   "outputs": [],
   "source": [
    "# Split the dataset into training and testing sets\n",
    "X_train, X_test, y_train, y_test = train_test_split(X, y, test_size=0.2, random_state=42)"
   ]
  },
  {
   "cell_type": "code",
   "execution_count": 10,
   "id": "7c33f82f",
   "metadata": {},
   "outputs": [],
   "source": [
    "# Fit and predict using Decision Tree\n",
    "dt_model = DecisionTreeClassifier()\n",
    "dt_model.fit(X_train, y_train)\n",
    "dt_pred = dt_model.predict(X_test)\n",
    "dt_cm = confusion_matrix(y_test, dt_pred)\n",
    "dt_accuracy = (dt_cm[0, 0] + dt_cm[1, 1]) / sum(sum(dt_cm))"
   ]
  },
  {
   "cell_type": "code",
   "execution_count": 11,
   "id": "3d8821a3",
   "metadata": {},
   "outputs": [],
   "source": [
    "# Fit and predict using Logistic Regression with increased max_iter\n",
    "logreg_model = LogisticRegression(max_iter=1000)\n",
    "logreg_model.fit(X_train, y_train)\n",
    "logreg_pred = logreg_model.predict(X_test)\n",
    "logreg_cm = confusion_matrix(y_test, logreg_pred)\n",
    "logreg_accuracy = (logreg_cm[0, 0] + logreg_cm[1, 1]) / sum(sum(logreg_cm))\n"
   ]
  },
  {
   "cell_type": "code",
   "execution_count": 12,
   "id": "329a27eb",
   "metadata": {},
   "outputs": [],
   "source": [
    "# Make predictions using the logistic regression model\n",
    "logreg_preds = logreg_model.predict(X_test)"
   ]
  },
  {
   "cell_type": "code",
   "execution_count": 13,
   "id": "533a969d",
   "metadata": {},
   "outputs": [],
   "source": [
    "# Fit and predict using XGBoost\n",
    "import xgboost as xgb\n",
    "\n",
    "# Create and fit the XGBoost model\n",
    "xgb_model = xgb.XGBClassifier()\n",
    "xgb_model.fit(X_train, y_train)\n",
    "\n",
    "# Predict labels for the test data using XGBoost\n",
    "xgb_pred = xgb_model.predict(X_test)\n",
    "\n",
    "# Create confusion matrix for XGBoost\n",
    "xgb_cm = confusion_matrix(y_test, xgb_pred)\n",
    "xgb_accuracy = (xgb_cm[0, 0] + xgb_cm[1, 1]) / sum(sum(xgb_cm))\n",
    "\n"
   ]
  },
  {
   "cell_type": "code",
   "execution_count": 14,
   "id": "85c989da",
   "metadata": {},
   "outputs": [],
   "source": [
    "# Plotting the count of heart patients and non-heart patients\n",
    "heart_count = sum(y == 1)\n",
    "non_heart_count = sum(y == 0)"
   ]
  },
  {
   "cell_type": "code",
   "execution_count": 15,
   "id": "a900d639",
   "metadata": {},
   "outputs": [
    {
     "data": {
      "image/png": "[encoded data removed]",
      "text/plain": [
       "<Figure size 432x288 with 1 Axes>"
      ]
     },
     "metadata": {
      "needs_background": "light"
     },
     "output_type": "display_data"
    }
   ],
   "source": [
    "plt.bar(['Heart Patients', 'Non-Heart Patients'], [heart_count, non_heart_count])\n",
    "plt.xlabel('Category')\n",
    "plt.ylabel('Count')\n",
    "plt.title('Count of Heart Patients and Non-Heart Patients')\n",
    "plt.show()"
   ]
  },
  {
   "cell_type": "code",
   "execution_count": 16,
   "id": "fae1e2e2",
   "metadata": {},
   "outputs": [
    {
     "name": "stdout",
     "output_type": "stream",
     "text": [
      "Decision Tree Confusion Matrix:\n",
      "[[101   6]\n",
      " [ 16 115]]\n",
      "Decision Tree Accuracy: 0.907563025210084\n",
      "Logistic Regression Confusion Matrix:\n",
      "[[ 90  17]\n",
      " [ 16 115]]\n",
      "Logistic Regression Accuracy: 0.8613445378151261\n",
      "XGBoost Confusion Matrix:\n",
      "[[ 99   8]\n",
      " [  5 126]]\n",
      "XGBoost Accuracy: 0.9453781512605042\n"
     ]
    }
   ],
   "source": [
    "# Printing the confusion matrices and accuracies\n",
    "print(\"Decision Tree Confusion Matrix:\")\n",
    "print(dt_cm)\n",
    "print(\"Decision Tree Accuracy:\", dt_accuracy)\n",
    "\n",
    "print(\"Logistic Regression Confusion Matrix:\")\n",
    "print(logreg_cm)\n",
    "print(\"Logistic Regression Accuracy:\", logreg_accuracy)\n",
    "\n",
    "print(\"XGBoost Confusion Matrix:\")\n",
    "print(xgb_cm)\n",
    "print(\"XGBoost Accuracy:\", xgb_accuracy)"
   ]
  },
  {
   "cell_type": "code",
   "execution_count": 17,
   "id": "54c58a5d",
   "metadata": {},
   "outputs": [],
   "source": [
    "def show_confusion_matrix():\n",
    "    logreg_accuracy = accuracy_score(y_test, logreg_preds)\n",
    "    logreg_cm = confusion_matrix(y_test, logreg_preds)\n",
    "\n",
    "    xgb_accuracy = accuracy_score(y_test, xgb_preds)\n",
    "    xgb_cm = confusion_matrix(y_test, xgb_preds)\n",
    "    \n",
    "    # Create the main window\n",
    "    root = tk.Tk()\n",
    "    root.title(\"Confusion Matrix\")\n",
    "    \n",
    "    # Create a color palette for the heatmap\n",
    "    cmap = \"Blues\"\n",
    "    \n",
    "    # Plot the confusion matrix for logistic regression\n",
    "    logreg_cm_figure, logreg_ax = plt.subplots(figsize=(5, 5))\n",
    "    logreg_cm_figure.canvas.set_window_title(\"Confusion Matrix - Logistic Regression\")\n",
    "    logreg_cm = confusion_matrix(y_test, logreg_preds)\n",
    "    sns.heatmap(logreg_cm, annot=True, cmap=cmap, fmt=\"d\", cbar=False, ax=logreg_ax)\n",
    "    \n",
    "    # Add labels to the confusion matrix\n",
    "    logreg_ax.set_xlabel('Predicted')\n",
    "    logreg_ax.set_ylabel('Actual')\n",
    "    logreg_ax.set_title('Confusion Matrix - Logistic Regression\\nHeart Disease Patients Count: {}\\nNon-Heart Disease Patients Count: {}'.format(heart_patient_count, non_heart_patient_count))\n",
    "\n",
    "    # Plot the confusion matrix for XGBoost\n",
    "    xgb_cm_figure, xgb_ax = plt.subplots(figsize=(5, 5))\n",
    "    xgb_cm_figure.canvas.set_window_title(\"Confusion Matrix - XGBoost\")\n",
    "    xgb_cm = confusion_matrix(y_test, xgb_preds)\n",
    "    sns.heatmap(xgb_cm, annot=True, cmap=cmap, fmt=\"d\", cbar=False, ax=xgb_ax)\n",
    "    \n",
    "    # Add labels to the confusion matrix\n",
    "    xgb_ax.set_xlabel('Predicted')\n",
    "    xgb_ax.set_ylabel('Actual')\n",
    "    xgb_ax.set_title('Confusion Matrix - XGBoost\\nHeart Disease Patients Count: {}\\nNon-Heart Disease Patients Count: {}'.format(heart_patient_count, non_heart_patient_count))\n",
    "\n",
    "    # Display the confusion matrices\n",
    "    plt.show()\n",
    "\n",
    "    # Display the confusion matrices and counts\n",
    "    cm_window = tk.Toplevel(root)\n",
    "    \n",
    "    # Add the confusion matrices to the new window\n",
    "    cm_figure, (logreg_ax, xgb_ax) = plt.subplots(1, 2, figsize=(10, 5))\n",
    "    sns.heatmap(logreg_cm, annot=True, cmap=\"Blues\", fmt=\"d\", ax=logreg_ax)\n",
    "    sns.heatmap(xgb_cm, annot=True, cmap=\"Blues\", fmt=\"d\", ax=xgb_ax)\n",
    "    \n",
    "    # Customize the color for heart disease patients and non-heart disease patients\n",
    "    logreg_ax.add_patch(plt.Rectangle((0, 0), 1, 1, fc='none', edgecolor='r', lw=2))\n",
    "    xgb_ax.add_patch(plt.Rectangle((0, 0), 1, 1, fc='none', edgecolor='r', lw=2))\n",
    "\n",
    "    logreg_ax.set_title(\"Logistic Regression\")\n",
    "    xgb_ax.set_title(\"XGBoost\")\n",
    "    plt.tight_layout()\n",
    "    cm_canvas = FigureCanvasTkAgg(cm_figure, master=cm_window)\n",
    "    cm_canvas.draw()\n",
    "    cm_canvas.get_tk_widget().pack()\n",
    "    logreg_ax.set_title(\"Logistic Regression\")\n",
    "    xgb_ax.set_title(\"XGBoost\")\n",
    "    plt.tight_layout()\n",
    "    cm_canvas = FigureCanvasTkAgg(cm_figure, master=cm_window)\n",
    "    cm_canvas.draw()\n",
    "    cm_canvas.get_tk_widget().pack()\n",
    "    \n",
    "    # Display the counts\n",
    "    count_label = tk.Label(cm_window, text=f\"Heart Patients Count: {heart_patient_count}\\nNon-Heart Patients Count: {non_heart_patient_count}\")\n",
    "    count_label.pack()\n",
    "\n",
    "    # Run the main event loop\n",
    "    root.mainloop()"
   ]
  },
  {
   "cell_type": "code",
   "execution_count": 18,
   "id": "53e2b848",
   "metadata": {},
   "outputs": [],
   "source": [
    "# Split the dataset into features and target\n",
    "X = heart_data.drop('target', axis=1)\n",
    "y = heart_data['target']"
   ]
  },
  {
   "cell_type": "code",
   "execution_count": 19,
   "id": "cf3649d7",
   "metadata": {},
   "outputs": [],
   "source": [
    "# Split the data into training and testing sets\n",
    "X_train, X_test, y_train, y_test = train_test_split(X, y, test_size=0.2, random_state=42)"
   ]
  },
  {
   "cell_type": "code",
   "execution_count": 20,
   "id": "e521dd84",
   "metadata": {},
   "outputs": [],
   "source": [
    "# Fit and predict using Logistic Regression with increased max_iter\n",
    "logreg_model = LogisticRegression(max_iter=1000)\n",
    "logreg_model.fit(X_train, y_train)\n",
    "logreg_pred = logreg_model.predict(X_test)\n",
    "logreg_cm = confusion_matrix(y_test, logreg_pred)\n",
    "logreg_accuracy = (logreg_cm[0, 0] + logreg_cm[1, 1]) / sum(sum(logreg_cm))\n"
   ]
  },
  {
   "cell_type": "code",
   "execution_count": 21,
   "id": "32a21c0c",
   "metadata": {},
   "outputs": [
    {
     "data": {
      "text/plain": [
       "Text(33.0, 0.5, 'Actual')"
      ]
     },
     "execution_count": 21,
     "metadata": {},
     "output_type": "execute_result"
    },
    {
     "data": {
      "image/png": "[encoded data removed]",
      "text/plain": [
       "<Figure size 432x288 with 2 Axes>"
      ]
     },
     "metadata": {
      "needs_background": "light"
     },
     "output_type": "display_data"
    }
   ],
   "source": [
    "# Create confusion matrix figure for logistic regression\n",
    "logreg_cm_figure = plt.figure(figsize=(6, 4))\n",
    "logreg_ax = logreg_cm_figure.add_subplot(1, 1, 1)\n",
    "logreg_cm_plot = sns.heatmap(logreg_cm, annot=True, cmap=\"Blues\", fmt=\"d\", ax=logreg_ax)\n",
    "logreg_ax.set_title(\"Confusion Matrix - Logistic Regression\")\n",
    "logreg_ax.set_xlabel(\"Predicted\")\n",
    "logreg_ax.set_ylabel(\"Actual\")"
   ]
  },
  {
   "cell_type": "code",
   "execution_count": 22,
   "id": "63a6ea1e",
   "metadata": {},
   "outputs": [
    {
     "data": {
      "text/plain": [
       "Text(33.0, 0.5, 'Actual')"
      ]
     },
     "execution_count": 22,
     "metadata": {},
     "output_type": "execute_result"
    },
    {
     "data": {
      "image/png": "[encoded data removed]",
      "text/plain": [
       "<Figure size 432x288 with 2 Axes>"
      ]
     },
     "metadata": {
      "needs_background": "light"
     },
     "output_type": "display_data"
    }
   ],
   "source": [
    "# Create confusion matrix figure for XGBoost\n",
    "xgb_cm_figure = plt.figure(figsize=(6, 4))\n",
    "xgb_ax = xgb_cm_figure.add_subplot(1, 1, 1)\n",
    "xgb_cm_plot = sns.heatmap(xgb_cm, annot=True, cmap=\"Blues\", fmt=\"d\", ax=xgb_ax)\n",
    "xgb_ax.set_title(\"Confusion Matrix - XGBoost\")\n",
    "xgb_ax.set_xlabel(\"Predicted\")\n",
    "xgb_ax.set_ylabel(\"Actual\")"
   ]
  },
  {
   "cell_type": "code",
   "execution_count": 23,
   "id": "8bb93850",
   "metadata": {},
   "outputs": [],
   "source": [
    "# Fit and predict using XGBoost\n",
    "xgb_model = XGBClassifier()\n",
    "xgb_model.fit(X_train, y_train)\n",
    "xgb_preds = xgb_model.predict(X_test)"
   ]
  },
  {
   "cell_type": "code",
   "execution_count": null,
   "id": "0dcfa5d7",
   "metadata": {},
   "outputs": [],
   "source": [
    "# Create the main window\n",
    "root = tk.Tk()\n",
    "root.title(\"Confusion Matrix\")\n",
    "\n",
    "# Add a label to display the dataset size and counts\n",
    "dataset_label = tk.Label(root, text=f\"Dataset Size: {dataset_size}\\nHeart Patients Count: {heart_patient_count}\\nNon-Heart Patients Count: {non_heart_patient_count}\")\n",
    "dataset_label.pack()\n",
    "\n",
    "# Add a button to show the confusion matrix\n",
    "cm_button = tk.Button(root, text=\"Show Confusion Matrix\", command=show_confusion_matrix)\n",
    "cm_button.pack()\n",
    "\n",
    "# Display the confusion matrices\n",
    "cm_window = tk.Toplevel(root)\n",
    "logreg_cm_canvas = FigureCanvasTkAgg(logreg_cm_figure, master=cm_window)\n",
    "logreg_cm_canvas.get_tk_widget().pack(side=tk.LEFT, fill=tk.BOTH, expand=True)\n",
    "xgb_cm_canvas = FigureCanvasTkAgg(xgb_cm_figure, master=cm_window)\n",
    "xgb_cm_canvas.get_tk_widget().pack(side=tk.RIGHT, fill=tk.BOTH, expand=True)\n",
    "\n",
    "# Add counts of heart disease patients and non-heart disease patients to the GUI\n",
    "counts_label = tk.Label(cm_window, text=f\"Dataset size: {len(X)}\\nHeart disease count: {heart_disease_count}\\nNon-heart disease count: {non_heart_disease_count}\")\n",
    "counts_label.pack()\n",
    "\n",
    "# Display the confusion matrices and counts\n",
    "cm_window = tk.Toplevel(root)\n",
    "\n",
    "# Add the confusion matrices to the new window\n",
    "logreg_ax = logreg_cm_figure.add_subplot(1, 1, 1)\n",
    "xgb_ax = xgb_cm_figure.add_subplot(1, 1, 1)\n",
    "\n",
    "logreg_cm_plot = sns.heatmap(logreg_cm, annot=True, cmap=\"Blues\", fmt=\"d\", ax=logreg_ax)\n",
    "xgb_cm_plot = sns.heatmap(xgb_cm, annot=True, cmap=\"Blues\", fmt=\"d\", ax=xgb_ax)\n",
    "\n",
    "logreg_ax.set_title(\"Confusion Matrix - Logistic Regression\")\n",
    "logreg_ax.set_xlabel(\"Predicted\")\n",
    "logreg_ax.set_ylabel(\"Actual\")\n",
    "\n",
    "xgb_ax.set_title(\"Confusion Matrix - XGBoost\")\n",
    "xgb_ax.set_xlabel(\"Predicted\")\n",
    "xgb_ax.set_ylabel(\"Actual\")\n",
    "\n",
    "logreg_cm_canvas = FigureCanvasTkAgg(logreg_cm_figure, master=cm_window)\n",
    "logreg_cm_canvas.get_tk_widget().pack(side=tk.LEFT, fill=tk.BOTH, expand=True)\n",
    "xgb_cm_canvas = FigureCanvasTkAgg(xgb_cm_figure, master=cm_window)\n",
    "xgb_cm_canvas.get_tk_widget().pack(side=tk.RIGHT, fill=tk.BOTH, expand=True)\n",
    "\n",
    "# Add counts of heart disease patients and non-heart disease patients to the GUI\n",
    "counts_label = tk.Label(cm_window, text=f\"Dataset size: {len(X)}\\nHeart disease count: {heart_disease_count}\\nNon-heart disease count: {non_heart_disease_count}\")\n",
    "counts_label.pack()\n",
    "\n",
    "\n",
    "# Run the main event loop\n",
    "root.mainloop()"
   ]
  },
  {
   "cell_type": "code",
   "execution_count": null,
   "id": "407cbe73",
   "metadata": {},
   "outputs": [],
   "source": []
  },
  {
   "cell_type": "code",
   "execution_count": null,
   "id": "e8daf56a",
   "metadata": {},
   "outputs": [],
   "source": []
  }
 ],
 "metadata": {
  "kernelspec": {
   "display_name": "Python 3 (ipykernel)",
   "language": "python",
   "name": "python3"
  },
  "language_info": {
   "codemirror_mode": {
    "name": "ipython",
    "version": 3
   },
   "file_extension": ".py",
   "mimetype": "text/x-python",
   "name": "python",
   "nbconvert_exporter": "python",
   "pygments_lexer": "ipython3",
   "version": "3.9.7"
  }
 },
 "nbformat": 4,
 "nbformat_minor": 5
}
