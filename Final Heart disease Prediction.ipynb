{
 "cells": [
  {
   "cell_type": "code",
   "execution_count": 1,
   "id": "75d83673",
   "metadata": {},
   "outputs": [],
   "source": [
    "import tkinter as tk\n",
    "import pandas as pd\n",
    "from sklearn.model_selection import train_test_split\n",
    "from sklearn.preprocessing import StandardScaler\n",
    "from sklearn.linear_model import LogisticRegression\n",
    "from xgboost import XGBClassifier\n",
    "from sklearn.metrics import accuracy_score"
   ]
  },
  {
   "cell_type": "code",
   "execution_count": 2,
   "id": "906aa2eb",
   "metadata": {},
   "outputs": [],
   "source": [
    "# Load the dataset\n",
    "heart_data = pd.read_csv('heart.csv')"
   ]
  },
  {
   "cell_type": "code",
   "execution_count": 3,
   "id": "e17fa52f",
   "metadata": {},
   "outputs": [],
   "source": [
    "# Split the dataset into features and target variable\n",
    "X = heart_data.drop('target', axis=1)\n",
    "y = heart_data['target']"
   ]
  },
  {
   "cell_type": "code",
   "execution_count": 4,
   "id": "09b04f0e",
   "metadata": {},
   "outputs": [],
   "source": [
    "# Split the data into training and testing sets\n",
    "X_train, X_test, y_train, y_test = train_test_split(X, y, test_size=0.2, random_state=42)"
   ]
  },
  {
   "cell_type": "code",
   "execution_count": 5,
   "id": "62a15107",
   "metadata": {},
   "outputs": [
    {
     "data": {
      "text/plain": [
       "LogisticRegression()"
      ]
     },
     "execution_count": 5,
     "metadata": {},
     "output_type": "execute_result"
    }
   ],
   "source": [
    "# Preprocess the training data\n",
    "scaler = StandardScaler()\n",
    "X_train_scaled = scaler.fit_transform(X_train)\n",
    "\n",
    "# Fit the logistic regression model\n",
    "logreg_model = LogisticRegression()\n",
    "logreg_model.fit(X_train_scaled, y_train)"
   ]
  },
  {
   "cell_type": "code",
   "execution_count": 6,
   "id": "8d8a253e",
   "metadata": {},
   "outputs": [],
   "source": [
    "# Make predictions using the logistic regression model\n",
    "logreg_preds = logreg_model.predict(X_test)"
   ]
  },
  {
   "cell_type": "code",
   "execution_count": 7,
   "id": "ede6a615",
   "metadata": {},
   "outputs": [
    {
     "name": "stdout",
     "output_type": "stream",
     "text": [
      "Logistic Regression Accuracy: 0.5245901639344263\n"
     ]
    }
   ],
   "source": [
    "# Calculate the accuracy of the logistic regression model\n",
    "logreg_accuracy = accuracy_score(y_test, logreg_preds)\n",
    "print(\"Logistic Regression Accuracy:\", logreg_accuracy)"
   ]
  },
  {
   "cell_type": "code",
   "execution_count": 8,
   "id": "8852315e",
   "metadata": {},
   "outputs": [
    {
     "data": {
      "text/plain": [
       "XGBClassifier(base_score=None, booster=None, callbacks=None,\n",
       "              colsample_bylevel=None, colsample_bynode=None,\n",
       "              colsample_bytree=None, early_stopping_rounds=None,\n",
       "              enable_categorical=False, eval_metric=None, feature_types=None,\n",
       "              gamma=None, gpu_id=None, grow_policy=None, importance_type=None,\n",
       "              interaction_constraints=None, learning_rate=None, max_bin=None,\n",
       "              max_cat_threshold=None, max_cat_to_onehot=None,\n",
       "              max_delta_step=None, max_depth=None, max_leaves=None,\n",
       "              min_child_weight=None, missing=nan, monotone_constraints=None,\n",
       "              n_estimators=100, n_jobs=None, num_parallel_tree=None,\n",
       "              predictor=None, random_state=None, ...)"
      ]
     },
     "execution_count": 8,
     "metadata": {},
     "output_type": "execute_result"
    }
   ],
   "source": [
    "# Train the XGBoost classifier model\n",
    "xgb_model = XGBClassifier()\n",
    "xgb_model.fit(X_train, y_train)"
   ]
  },
  {
   "cell_type": "code",
   "execution_count": 9,
   "id": "e4f4825c",
   "metadata": {},
   "outputs": [],
   "source": [
    "# Make predictions using the XGBoost classifier model\n",
    "xgb_preds = xgb_model.predict(X_test)"
   ]
  },
  {
   "cell_type": "code",
   "execution_count": 10,
   "id": "8aec2437",
   "metadata": {},
   "outputs": [
    {
     "name": "stdout",
     "output_type": "stream",
     "text": [
      "XGBoost Classifier Accuracy: 0.819672131147541\n"
     ]
    }
   ],
   "source": [
    "# Calculate the accuracy of the XGBoost classifier model\n",
    "xgb_accuracy = accuracy_score(y_test, xgb_preds)\n",
    "print(\"XGBoost Classifier Accuracy:\", xgb_accuracy)"
   ]
  },
  {
   "cell_type": "code",
   "execution_count": 11,
   "id": "f6484ada",
   "metadata": {},
   "outputs": [],
   "source": [
    "# Evaluate the models on the testing data\n",
    "logreg_accuracy = logreg_model.score(X_test, y_test)\n",
    "xgb_accuracy = xgb_model.score(X_test, y_test)"
   ]
  },
  {
   "cell_type": "code",
   "execution_count": 12,
   "id": "9132d8fa",
   "metadata": {},
   "outputs": [
    {
     "name": "stdout",
     "output_type": "stream",
     "text": [
      "XGBoost has the highest accuracy: 0.819672131147541\n"
     ]
    }
   ],
   "source": [
    "# Print the model with the highest accuracy\n",
    "if logreg_accuracy > xgb_accuracy:\n",
    "    print(\"Logistic Regression has the highest accuracy:\", logreg_accuracy)\n",
    "else:\n",
    "    print(\"XGBoost has the highest accuracy:\", xgb_accuracy)"
   ]
  },
  {
   "cell_type": "code",
   "execution_count": 13,
   "id": "05b191ac",
   "metadata": {},
   "outputs": [],
   "source": [
    "# Create a function to predict heart disease\n",
    "def predict_heart_disease(age, sex, cp, trestbps, chol, fbs, restecg, thalach, exang, oldpeak, slope, ca, thal):\n",
    "    person = pd.DataFrame([[age, sex, cp, trestbps, chol, fbs, restecg, thalach, exang, oldpeak, slope, ca, thal]],\n",
    "                          columns=X.columns)\n",
    "    logreg_prediction = logreg_model.predict(person)\n",
    "    xgb_prediction = xgb_model.predict(person)\n",
    "    \n",
    "    if logreg_prediction[0] == 0:\n",
    "        print(\"According to Logistic Regression, the person does not have heart disease.\")\n",
    "    else:\n",
    "        print(\"According to Logistic Regression, the person has heart disease.\")\n",
    "        \n",
    "    if xgb_prediction[0] == 0:\n",
    "        print(\"According to XGBoost Classifier, the person does not have heart disease.\")\n",
    "    else:\n",
    "        print(\"According to XGBoost Classifier, the person has heart disease.\")"
   ]
  },
  {
   "cell_type": "code",
   "execution_count": 14,
   "id": "0777c70a",
   "metadata": {},
   "outputs": [],
   "source": [
    "# Create a function to predict heart disease\n",
    "def predict_heart_disease():\n",
    "    age = int(age_entry.get())\n",
    "    sex = int(sex_entry.get())\n",
    "    cp = int(cp_entry.get())\n",
    "    trestbps = int(trestbps_entry.get())\n",
    "    chol = int(chol_entry.get())\n",
    "    fbs = int(fbs_entry.get())\n",
    "    restecg = int(restecg_entry.get())\n",
    "    thalach = int(thalach_entry.get())\n",
    "    exang = int(exang_entry.get())\n",
    "    oldpeak = float(oldpeak_entry.get())\n",
    "    slope = int(slope_entry.get())\n",
    "    ca = int(ca_entry.get())\n",
    "    thal = int(thal_entry.get())\n",
    "\n",
    "    person = pd.DataFrame([[age, sex, cp, trestbps, chol, fbs, restecg, thalach, exang, oldpeak, slope, ca, thal]],\n",
    "                          columns=X.columns)\n",
    "    \n",
    "    logreg_prediction = logreg_model.predict(person)\n",
    "    xgb_prediction = xgb_model.predict(person)\n",
    "\n",
    "    if logreg_prediction[0] == 0:\n",
    "        logreg_result = \"According to Logistic Regression, the person does not have heart disease.\"\n",
    "    else:\n",
    "        logreg_result = \"According to Logistic Regression, the person has heart disease.\"\n",
    "\n",
    "    if xgb_prediction[0] == 0:\n",
    "        xgb_result = \"According to XGBoost Classifier, the person does not have heart disease.\"\n",
    "    else:\n",
    "        xgb_result = \"According to XGBoost Classifier, the person has heart disease.\"\n",
    "\n",
    "    result_label.config(text=f\"{logreg_result}\\n{xgb_result}\")\n"
   ]
  },
  {
   "cell_type": "code",
   "execution_count": 15,
   "id": "5f83ad81",
   "metadata": {},
   "outputs": [],
   "source": [
    "# Create a GUI window\n",
    "window = tk.Tk()\n",
    "window.title(\"Heart Disease Prediction\")\n",
    "\n",
    "# Create labels and entry fields for each feature using grid layout\n",
    "tk.Label(window, text=\"Age:\").grid(row=0, column=0)\n",
    "age_entry = tk.Entry(window)\n",
    "age_entry.grid(row=0, column=1)\n",
    "\n",
    "tk.Label(window, text=\"Sex (0 for female, 1 for male):\").grid(row=1, column=0)\n",
    "sex_entry = tk.Entry(window)\n",
    "sex_entry.grid(row=1, column=1)\n",
    "\n",
    "tk.Label(window, text=\"Chest Pain Type (0-3):\").grid(row=2, column=0)\n",
    "cp_entry = tk.Entry(window)\n",
    "cp_entry.grid(row=2, column=1)\n",
    "\n",
    "tk.Label(window, text=\"Resting Blood Pressure (mm Hg):\").grid(row=3, column=0)\n",
    "trestbps_entry = tk.Entry(window)\n",
    "trestbps_entry.grid(row=3, column=1)\n",
    "\n",
    "tk.Label(window, text=\"Serum Cholesterol (mg/dl):\").grid(row=4, column=0)\n",
    "chol_entry = tk.Entry(window)\n",
    "chol_entry.grid(row=4, column=1)\n",
    "\n",
    "tk.Label(window, text=\"Fasting Blood Sugar > 120 mg/dl (0 for No, 1 for Yes):\").grid(row=5, column=0)\n",
    "fbs_entry = tk.Entry(window)\n",
    "fbs_entry.grid(row=5, column=1)\n",
    "\n",
    "tk.Label(window, text=\"Resting Electrocardiographic Results (0-2):\").grid(row=6, column=0)\n",
    "restecg_entry = tk.Entry(window)\n",
    "restecg_entry.grid(row=6, column=1)\n",
    "\n",
    "tk.Label(window, text=\"Maximum Heart Rate Achieved:\").grid(row=7, column=0)\n",
    "thalach_entry = tk.Entry(window)\n",
    "thalach_entry.grid(row=7, column=1)\n",
    "\n",
    "tk.Label(window, text=\"Exercise-Induced Angina (0 for No, 1 for Yes):\").grid(row=8, column=0)\n",
    "exang_entry = tk.Entry(window)\n",
    "exang_entry.grid(row=8, column=1)\n",
    "\n",
    "tk.Label(window, text=\"ST Depression Induced by Exercise Relative to Rest:\").grid(row=9, column=0)\n",
    "oldpeak_entry = tk.Entry(window)\n",
    "oldpeak_entry.grid(row=9, column=1)\n",
    "\n",
    "tk.Label(window, text=\"Slope of the Peak Exercise ST Segment (0-2):\").grid(row=10, column=0)\n",
    "slope_entry = tk.Entry(window)\n",
    "slope_entry.grid(row=10, column=1)\n",
    "\n",
    "tk.Label(window, text=\"Number of Major Vessels Colored by Fluoroscopy (0-3):\").grid(row=11, column=0)\n",
    "ca_entry = tk.Entry(window)\n",
    "ca_entry.grid(row=11, column=1)\n",
    "\n",
    "tk.Label(window, text=\"Thalassemia Type (0-3):\").grid(row=12, column=0)\n",
    "thal_entry = tk.Entry(window)\n",
    "thal_entry.grid(row=12, column=1)\n"
   ]
  },
  {
   "cell_type": "code",
   "execution_count": 16,
   "id": "8ed2eb47",
   "metadata": {},
   "outputs": [
    {
     "name": "stdout",
     "output_type": "stream",
     "text": [
      "Enter age: 23\n",
      "Enter sex (0 for female, 1 for male): 1\n",
      "Enter chest pain type (0-3): 2\n",
      "Enter resting blood pressure (mm Hg): 145\n",
      "Enter serum cholesterol (mg/dl): 233\n",
      "Enter fasting blood sugar > 120 mg/dl (0 for No, 1 for Yes): 1\n",
      "Enter resting electrocardiographic results (0-2): 2\n",
      "Enter maximum heart rate achieved: 150\n",
      "Enter exercise-induced angina (0 for No, 1 for Yes): 0\n",
      "Enter ST depression induced by exercise relative to rest: 3\n",
      "Enter the slope of the peak exercise ST segment (0-2): 0\n",
      "Enter number of major vessels colored by fluoroscopy (0-3): 0\n",
      "Enter thalassemia type (0-3): 1\n",
      "Logistic Regression Prediction: No\n",
      "XGBoost Prediction: No\n",
      "Logistic Regression Accuracy: 0.52\n",
      "XGBoost Accuracy: 0.82\n"
     ]
    }
   ],
   "source": [
    "# Create Entry widgets for input\n",
    "age_entry = tk.Entry(window)\n",
    "sex_entry = tk.Entry(window)\n",
    "cp_entry = tk.Entry(window)\n",
    "trestbps_entry = tk.Entry(window)\n",
    "chol_entry = tk.Entry(window)\n",
    "fbs_entry = tk.Entry(window)\n",
    "restecg_entry = tk.Entry(window)\n",
    "thalach_entry = tk.Entry(window)\n",
    "exang_entry = tk.Entry(window)\n",
    "oldpeak_entry = tk.Entry(window)\n",
    "slope_entry = tk.Entry(window)\n",
    "ca_entry = tk.Entry(window)\n",
    "thal_entry = tk.Entry(window)\n",
    "\n",
    "# Place Entry widgets in the window\n",
    "age_entry.grid(row=1, column=1)\n",
    "sex_entry.grid(row=2, column=1)\n",
    "cp_entry.grid(row=3, column=1)\n",
    "trestbps_entry.grid(row=4, column=1)\n",
    "chol_entry.grid(row=5, column=1)\n",
    "fbs_entry.grid(row=6, column=1)\n",
    "restecg_entry.grid(row=7, column=1)\n",
    "thalach_entry.grid(row=8, column=1)\n",
    "exang_entry.grid(row=9, column=1)\n",
    "oldpeak_entry.grid(row=10, column=1)\n",
    "slope_entry.grid(row=11, column=1)\n",
    "ca_entry.grid(row=12, column=1)\n",
    "thal_entry.grid(row=13, column=1)\n",
    "\n",
    "# Input values for a person's features\n",
    "age = int(input(\"Enter age: \"))\n",
    "sex = int(input(\"Enter sex (0 for female, 1 for male): \"))\n",
    "cp = int(input(\"Enter chest pain type (0-3): \"))\n",
    "trestbps = int(input(\"Enter resting blood pressure (mm Hg): \"))\n",
    "chol = int(input(\"Enter serum cholesterol (mg/dl): \"))\n",
    "fbs = int(input(\"Enter fasting blood sugar > 120 mg/dl (0 for No, 1 for Yes): \"))\n",
    "restecg = int(input(\"Enter resting electrocardiographic results (0-2): \"))\n",
    "thalach = int(input(\"Enter maximum heart rate achieved: \"))\n",
    "exang = int(input(\"Enter exercise-induced angina (0 for No, 1 for Yes): \"))\n",
    "oldpeak = float(input(\"Enter ST depression induced by exercise relative to rest: \"))\n",
    "slope = int(input(\"Enter the slope of the peak exercise ST segment (0-2): \"))\n",
    "ca = int(input(\"Enter number of major vessels colored by fluoroscopy (0-3): \"))\n",
    "thal = int(input(\"Enter thalassemia type (0-3): \"))\n",
    "\n",
    "# Create a DataFrame with the input values\n",
    "input_data = pd.DataFrame([[age, sex, cp, trestbps, chol, fbs, restecg, thalach, exang, oldpeak, slope, ca, thal]],\n",
    "                          columns=X.columns)\n",
    "    \n",
    "# Predict with Logistic Regression model\n",
    "logreg_prediction = logreg_model.predict(input_data)\n",
    "    \n",
    "# Predict with XGBoost model\n",
    "xgb_prediction = xgb_model.predict(input_data)\n",
    "    \n",
    "# Display the predictions\n",
    "print(f\"Logistic Regression Prediction: {'Yes' if logreg_prediction[0] == 1 else 'No'}\")\n",
    "print(f\"XGBoost Prediction: {'Yes' if xgb_prediction[0] == 1 else 'No'}\")\n",
    "    \n",
    "# Calculate and display the accuracies\n",
    "logreg_accuracy = accuracy_score(y_test, logreg_model.predict(X_test))\n",
    "xgb_accuracy = accuracy_score(y_test, xgb_model.predict(X_test))\n",
    "print(f\"Logistic Regression Accuracy: {logreg_accuracy:.2f}\")\n",
    "print(f\"XGBoost Accuracy: {xgb_accuracy:.2f}\")"
   ]
  },
  {
   "cell_type": "code",
   "execution_count": 17,
   "id": "1b297bdd",
   "metadata": {},
   "outputs": [],
   "source": [
    "# Create a function to predict heart disease\n",
    "def predict_heart_disease():\n",
    "    age = int(age_entry.get())\n",
    "    sex = int(sex_entry.get())\n",
    "    cp = int(cp_entry.get())\n",
    "    trestbps = int(trestbps_entry.get())\n",
    "    chol = int(chol_entry.get())\n",
    "    fbs = int(fbs_entry.get())\n",
    "    restecg = int(restecg_entry.get())\n",
    "    thalach = int(thalach_entry.get())\n",
    "    exang = int(exang_entry.get())\n",
    "    oldpeak = float(oldpeak_entry.get())\n",
    "    slope = int(slope_entry.get())\n",
    "    ca = int(ca_entry.get())\n",
    "    thal = int(thal_entry.get())\n",
    "\n",
    "    person = pd.DataFrame([[age, sex, cp, trestbps, chol, fbs, restecg, thalach, exang, oldpeak, slope, ca, thal]],\n",
    "                          columns=X.columns)\n",
    "    \n",
    "    logreg_prediction = logreg_model.predict(person)\n",
    "    xgb_prediction = xgb_model.predict(person)\n",
    "\n",
    "    if logreg_prediction[0] == 0:\n",
    "        logreg_result = \"According to Logistic Regression, the person does not have heart disease.\"\n",
    "    else:\n",
    "        logreg_result = \"According to Logistic Regression, the person has heart disease.\"\n",
    "\n",
    "    if xgb_prediction[0] == 0:\n",
    "        xgb_result = \"According to XGBoost Classifier, the person does not have heart disease.\"\n",
    "    else:\n",
    "        xgb_result = \"According to XGBoost Classifier, the person has heart disease.\"\n",
    "        \n",
    "    # Calculate accuracy\n",
    "    logreg_accuracy = logreg_model.score(X, y)\n",
    "    xgb_accuracy = xgb_model.score(X, y)\n",
    "\n",
    "    result_label.config(text=f\"{logreg_result}\\n{xgb_result}\\n\\n\"\n",
    "                             f\"Logistic Regression Accuracy: {logreg_accuracy:.2f}\\n\"\n",
    "                             f\"XGBoost Accuracy: {xgb_accuracy:.2f}\")"
   ]
  },
  {
   "cell_type": "code",
   "execution_count": null,
   "id": "2840368f",
   "metadata": {
    "scrolled": false
   },
   "outputs": [],
   "source": [
    "# Create a button to trigger the prediction\n",
    "predict_button = tk.Button(window, text=\"Predict\", command=predict_heart_disease)\n",
    "predict_button.grid(row=13, column=0, columnspan=2)\n",
    "\n",
    "# Create a label to display the prediction result\n",
    "result_label = tk.Label(window, text=\"\")\n",
    "result_label.grid(row=14, column=0, columnspan=2)\n",
    "\n",
    "# Start the GUI event loop\n",
    "window.mainloop()"
   ]
  },
  {
   "cell_type": "code",
   "execution_count": null,
   "id": "4f3b9309",
   "metadata": {},
   "outputs": [],
   "source": []
  },
  {
   "cell_type": "code",
   "execution_count": null,
   "id": "91949c09",
   "metadata": {},
   "outputs": [],
   "source": []
  },
  {
   "cell_type": "code",
   "execution_count": null,
   "id": "16e9d4b5",
   "metadata": {},
   "outputs": [],
   "source": []
  }
 ],
 "metadata": {
  "kernelspec": {
   "display_name": "Python 3 (ipykernel)",
   "language": "python",
   "name": "python3"
  },
  "language_info": {
   "codemirror_mode": {
    "name": "ipython",
    "version": 3
   },
   "file_extension": ".py",
   "mimetype": "text/x-python",
   "name": "python",
   "nbconvert_exporter": "python",
   "pygments_lexer": "ipython3",
   "version": "3.9.7"
  }
 },
 "nbformat": 4,
 "nbformat_minor": 5
}
